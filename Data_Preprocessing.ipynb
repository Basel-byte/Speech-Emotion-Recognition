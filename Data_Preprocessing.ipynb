{
  "nbformat": 4,
  "nbformat_minor": 0,
  "metadata": {
    "colab": {
      "provenance": [],
      "authorship_tag": "ABX9TyOkC3Bfz6W97JhwFQVInpUo",
      "include_colab_link": true
    },
    "kernelspec": {
      "name": "python3",
      "display_name": "Python 3"
    },
    "language_info": {
      "name": "python"
    }
  },
  "cells": [
    {
      "cell_type": "markdown",
      "metadata": {
        "id": "view-in-github",
        "colab_type": "text"
      },
      "source": [
        "<a href=\"https://colab.research.google.com/github/Basel-byte/Speech-Emotion-Recognition/blob/main/Data_Preprocessing.ipynb\" target=\"_parent\"><img src=\"https://colab.research.google.com/assets/colab-badge.svg\" alt=\"Open In Colab\"/></a>"
      ]
    },
    {
      "cell_type": "code",
      "execution_count": 11,
      "metadata": {
        "colab": {
          "base_uri": "https://localhost:8080/"
        },
        "id": "glMs-H3Ytwqp",
        "outputId": "6ff2f4d3-798d-432c-fcd0-6f33d78db5c0"
      },
      "outputs": [
        {
          "output_type": "stream",
          "name": "stdout",
          "text": [
            "Drive already mounted at /content/drive; to attempt to forcibly remount, call drive.mount(\"/content/drive\", force_remount=True).\n"
          ]
        }
      ],
      "source": [
        "from google.colab import drive\n",
        "drive.mount('/content/drive')"
      ]
    },
    {
      "cell_type": "code",
      "source": [
        "!unzip /content/drive/MyDrive/Crema.zip -d /content/drive/MyDrive"
      ],
      "metadata": {
        "id": "3Y3Mro927-NE"
      },
      "execution_count": null,
      "outputs": []
    },
    {
      "cell_type": "code",
      "source": [
        "from scipy.io import wavfile\n",
        "import librosa\n",
        "import os"
      ],
      "metadata": {
        "id": "ZTN8UKJK8RF2"
      },
      "execution_count": 17,
      "outputs": []
    },
    {
      "cell_type": "code",
      "source": [
        "dir_path = \"/content/drive/MyDrive/Crema\"\n",
        "labels = []\n",
        "audio_waves = []\n",
        "for file_name in os.listdir(dir_path):\n",
        "  labels.append(file_name[9:12])\n",
        "  audio_waves.append(librosa.load(os.path.join(dir_path, file_name)))\n",
        "print(labels)\n"
      ],
      "metadata": {
        "colab": {
          "base_uri": "https://localhost:8080/"
        },
        "id": "jfG9F5ss-Hm-",
        "outputId": "9680af4e-0501-4c51-c558-07e060213785"
      },
      "execution_count": 21,
      "outputs": [
        {
          "output_type": "stream",
          "name": "stdout",
          "text": [
            "['FEA', 'DIS', 'ANG', 'SAD', 'HAP', 'ANG', 'NEU', 'DIS', 'NEU', 'HAP', 'HAP', 'FEA', 'FEA', 'SAD', 'ANG', 'HAP', 'DIS', 'SAD', 'ANG', 'SAD', 'FEA', 'HAP', 'NEU', 'ANG', 'ANG', 'FEA', 'SAD', 'NEU', 'DIS', 'HAP', 'DIS', 'SAD', 'DIS', 'ANG', 'FEA', 'ANG', 'NEU', 'FEA', 'DIS', 'NEU', 'SAD', 'FEA', 'HAP', 'DIS', 'FEA', 'DIS', 'NEU', 'HAP', 'NEU', 'ANG', 'DIS', 'ANG', 'FEA', 'HAP', 'HAP', 'FEA', 'SAD', 'DIS', 'SAD', 'ANG', 'SAD', 'ANG', 'FEA', 'DIS', 'DIS', 'HAP', 'NEU', 'HAP', 'DIS', 'ANG', 'SAD', 'NEU', 'ANG', 'ANG', 'SAD', 'HAP', 'NEU', 'HAP', 'SAD', 'NEU', 'FEA', 'SAD', 'HAP', 'NEU', 'FEA', 'FEA', 'DIS', 'ANG', 'SAD', 'HAP', 'HAP', 'NEU', 'DIS', 'ANG', 'SAD', 'SAD', 'NEU', 'DIS', 'DIS', 'DIS', 'NEU', 'SAD', 'HAP', 'SAD', 'SAD', 'DIS', 'SAD', 'SAD', 'FEA', 'NEU', 'NEU', 'ANG', 'ANG', 'FEA', 'NEU', 'SAD', 'ANG', 'FEA', 'ANG', 'DIS', 'SAD', 'SAD', 'FEA', 'NEU', 'HAP', 'ANG', 'HAP', 'HAP', 'ANG', 'DIS', 'DIS', 'DIS', 'NEU', 'HAP', 'ANG', 'ANG', 'DIS', 'DIS', 'ANG', 'HAP', 'FEA', 'SAD', 'DIS', 'HAP', 'FEA', 'FEA', 'HAP', 'DIS', 'SAD', 'ANG', 'ANG', 'HAP', 'DIS', 'DIS', 'FEA', 'FEA', 'ANG', 'SAD', 'NEU', 'HAP', 'FEA', 'DIS', 'ANG', 'SAD', 'SAD', 'FEA', 'ANG', 'ANG', 'SAD', 'HAP', 'HAP', 'NEU', 'SAD', 'NEU', 'SAD', 'DIS', 'FEA', 'FEA', 'DIS', 'HAP', 'NEU', 'FEA', 'DIS', 'FEA', 'ANG', 'FEA', 'HAP', 'ANG', 'FEA', 'HAP', 'DIS', 'NEU', 'HAP', 'FEA', 'ANG', 'NEU', 'FEA', 'HAP', 'SAD', 'DIS', 'FEA', 'ANG', 'SAD', 'NEU', 'HAP', 'SAD', 'SAD', 'ANG', 'FEA', 'HAP', 'DIS', 'SAD', 'NEU', 'HAP', 'HAP', 'HAP', 'NEU', 'SAD', 'ANG', 'NEU', 'NEU', 'HAP', 'NEU', 'FEA', 'ANG', 'FEA', 'SAD', 'NEU', 'DIS', 'ANG', 'HAP', 'FEA', 'NEU', 'SAD', 'DIS', 'HAP', 'FEA', 'SAD', 'FEA', 'DIS', 'DIS', 'ANG', 'ANG', 'HAP', 'HAP', 'ANG', 'DIS', 'NEU', 'SAD', 'DIS', 'HAP', 'DIS', 'ANG', 'ANG', 'FEA', 'NEU', 'SAD', 'DIS', 'SAD', 'FEA', 'FEA', 'SAD', 'HAP', 'NEU', 'SAD', 'ANG', 'SAD', 'FEA', 'FEA', 'NEU', 'FEA', 'NEU', 'FEA', 'ANG', 'DIS', 'FEA', 'ANG', 'HAP', 'SAD', 'FEA', 'SAD', 'DIS', 'NEU', 'SAD', 'SAD', 'SAD', 'NEU', 'HAP', 'ANG', 'ANG', 'NEU', 'ANG', 'HAP', 'ANG', 'SAD', 'DIS', 'DIS', 'ANG', 'FEA', 'DIS', 'FEA', 'NEU', 'FEA', 'HAP', 'ANG', 'DIS', 'ANG', 'FEA', 'DIS', 'SAD', 'ANG', 'FEA', 'DIS', 'DIS', 'DIS', 'SAD', 'HAP', 'HAP', 'FEA', 'ANG', 'NEU', 'SAD', 'HAP', 'SAD', 'SAD', 'HAP', 'DIS', 'HAP', 'ANG', 'HAP', 'HAP', 'NEU', 'ANG', 'NEU', 'HAP', 'DIS', 'DIS', 'FEA', 'FEA', 'HAP', 'NEU', 'FEA', 'HAP', 'NEU', 'DIS', 'ANG', 'DIS', 'FEA', 'ANG', 'HAP', 'DIS', 'ANG', 'ANG', 'FEA', 'FEA', 'HAP', 'DIS', 'SAD', 'SAD', 'FEA', 'FEA', 'HAP', 'NEU', 'HAP', 'NEU', 'FEA', 'DIS', 'FEA', 'DIS', 'HAP', 'NEU', 'DIS', 'SAD', 'SAD', 'SAD', 'FEA', 'ANG', 'SAD', 'ANG', 'SAD', 'HAP', 'NEU', 'FEA', 'NEU', 'HAP', 'HAP', 'DIS', 'SAD', 'HAP', 'FEA', 'DIS', 'DIS', 'ANG', 'DIS', 'SAD', 'NEU', 'FEA', 'FEA', 'HAP', 'SAD', 'SAD', 'HAP', 'ANG', 'SAD', 'FEA', 'DIS', 'HAP', 'NEU', 'ANG', 'ANG', 'SAD', 'HAP', 'SAD', 'DIS', 'ANG', 'FEA', 'HAP', 'NEU', 'NEU', 'DIS', 'DIS', 'FEA', 'DIS', 'ANG', 'ANG', 'NEU', 'FEA', 'ANG', 'NEU', 'ANG', 'HAP', 'ANG', 'ANG', 'ANG', 'NEU', 'SAD', 'SAD', 'FEA', 'SAD', 'NEU', 'DIS', 'ANG', 'HAP', 'NEU', 'HAP', 'FEA', 'NEU', 'SAD', 'DIS', 'DIS']\n"
          ]
        }
      ]
    }
  ]
}